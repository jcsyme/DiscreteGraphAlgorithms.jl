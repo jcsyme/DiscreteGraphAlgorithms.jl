{
 "cells": [
  {
   "cell_type": "code",
   "execution_count": 1,
   "id": "d66d017d-6487-490b-8b6e-ab4af958fd8a",
   "metadata": {},
   "outputs": [
    {
     "name": "stderr",
     "output_type": "stream",
     "text": [
      "\u001b[32m\u001b[1m  Activating\u001b[22m\u001b[39m project at `~/git/RunDGA`\n",
      "\u001b[32m\u001b[1m     Cloning\u001b[22m\u001b[39m git-repo `https://github.com/jcsyme/IterativeHeaps.jl`\n",
      "Path `/Users/usuario/.julia/dev/IterativeHeaps` exists and looks like the correct repo. Using existing path.\n",
      "\u001b[32m\u001b[1m   Resolving\u001b[22m\u001b[39m package versions...\n",
      "\u001b[32m\u001b[1m  No Changes\u001b[22m\u001b[39m to `~/git/RunDGA/Project.toml`\n",
      "\u001b[32m\u001b[1m  No Changes\u001b[22m\u001b[39m to `~/git/RunDGA/Manifest.toml`\n",
      "\u001b[32m\u001b[1m     Cloning\u001b[22m\u001b[39m git-repo `https://github.com/jcsyme/GraphDistanceAlgorithms.jl`\n",
      "Path `/Users/usuario/.julia/dev/GraphDistanceAlgorithms` exists and looks like the correct repo. Using existing path.\n",
      "\u001b[32m\u001b[1m   Resolving\u001b[22m\u001b[39m package versions...\n",
      "\u001b[32m\u001b[1m  No Changes\u001b[22m\u001b[39m to `~/git/RunDGA/Project.toml`\n",
      "\u001b[32m\u001b[1m  No Changes\u001b[22m\u001b[39m to `~/git/RunDGA/Manifest.toml`\n",
      "\u001b[32m\u001b[1m     Cloning\u001b[22m\u001b[39m git-repo `https://github.com/jcsyme/GraphFragments.jl`\n",
      "Path `/Users/usuario/.julia/dev/GraphFragments` exists and looks like the correct repo. Using existing path.\n",
      "\u001b[32m\u001b[1m   Resolving\u001b[22m\u001b[39m package versions...\n",
      "\u001b[32m\u001b[1m  No Changes\u001b[22m\u001b[39m to `~/git/RunDGA/Project.toml`\n",
      "\u001b[32m\u001b[1m  No Changes\u001b[22m\u001b[39m to `~/git/RunDGA/Manifest.toml`\n",
      "\u001b[32m\u001b[1m   Resolving\u001b[22m\u001b[39m package versions...\n",
      "\u001b[32m\u001b[1m  No Changes\u001b[22m\u001b[39m to `~/git/RunDGA/Project.toml`\n",
      "\u001b[32m\u001b[1m  No Changes\u001b[22m\u001b[39m to `~/git/RunDGA/Manifest.toml`\n",
      "\u001b[32m\u001b[1m   Resolving\u001b[22m\u001b[39m package versions...\n",
      "\u001b[32m\u001b[1m  No Changes\u001b[22m\u001b[39m to `~/git/RunDGA/Project.toml`\n",
      "\u001b[32m\u001b[1m  No Changes\u001b[22m\u001b[39m to `~/git/RunDGA/Manifest.toml`\n",
      "\u001b[32m\u001b[1mPrecompiling\u001b[22m\u001b[39m project...\n",
      "\u001b[32m  ✓ \u001b[39mDiscreteGraphAlgorithms\n",
      "  1 dependency successfully precompiled in 3 seconds. 113 already precompiled.\n"
     ]
    }
   ],
   "source": [
    "using Pkg\n",
    "using Revise\n",
    "Pkg.activate(\".\")\n",
    "\n",
    "# add projects\n",
    "Pkg.develop(url = \"https://github.com/jcsyme/IterativeHeaps.jl\")\n",
    "Pkg.develop(url = \"https://github.com/jcsyme/GraphDistanceAlgorithms.jl\")\n",
    "Pkg.develop(url = \"https://github.com/jcsyme/GraphFragments.jl\")\n",
    "#Pkg.develop(url = \"https://github.com/jcsyme/DiscreteGraphAlgorithms.jl\")\n",
    "Pkg.develop(path = \"/Users/usuario/git/DiscreteGraphAlgorithms.jl\")\n",
    "Pkg.add(\"BenchmarkTools\")\n"
   ]
  },
  {
   "cell_type": "markdown",
   "id": "c505790d-40fd-402f-af60-26f403af46bf",
   "metadata": {},
   "source": [
    "# Load Benchmarking and `Distributed`\n",
    "- `Distributed` package is required to take advantage of parallelization\n",
    "    - The `@everywhere` macro will be used below to ensure that parallelization can function using methods in each of the pacakges we need\n",
    "    - Use `Sys.CPU_THREADS` to see how many cores (physical and virtual) you have at your disposal\n",
    "- `BenchmarkTools` is used to compare performance"
   ]
  },
  {
   "cell_type": "code",
   "execution_count": 2,
   "id": "e30bc201-9223-4581-ac6e-7960c08bd977",
   "metadata": {},
   "outputs": [
    {
     "data": {
      "text/plain": [
       "10"
      ]
     },
     "execution_count": 2,
     "metadata": {},
     "output_type": "execute_result"
    }
   ],
   "source": [
    "Sys.CPU_THREADS"
   ]
  },
  {
   "cell_type": "code",
   "execution_count": 3,
   "id": "b5cd4bca-80f2-4245-be6f-f7e8e5db234a",
   "metadata": {},
   "outputs": [],
   "source": [
    "using BenchmarkTools \n",
    "using Distributed\n",
    "\n",
    "# add processes? the number of processes should be based on your system. You can use \n",
    "(nprocs() == 1) && addprocs(Sys.CPU_THREADS)\n",
    "\n",
    "# load using everywhere macro to make sure cores can recognize objects\n",
    "@everywhere using DiscreteGraphAlgorithms\n",
    "@everywhere using Graphs\n",
    "@everywhere using GraphDistanceAlgorithms\n",
    "@everywhere using GraphFragments"
   ]
  },
  {
   "cell_type": "code",
   "execution_count": 4,
   "id": "3d42be39-16a5-4da7-992b-a893da639f96",
   "metadata": {},
   "outputs": [
    {
     "data": {
      "text/latex": [
       "Calculate the fragmentation of a graph (KPP-Negative)\n",
       "\n",
       "\\section{Constructs}\n",
       "\\begin{verbatim}\n",
       "fragmentation(\n",
       "    graph::Union{AbstractGraph, Nothing}, \n",
       "    dict_arrays::Union{Dict{Symbol, Vector}, Dict{Symbol, DArray}, Nothing} = nothing;\n",
       "    D_invs::Union{Matrix{Int64}, Matrix{Float64}, Nothing} = nothing,\n",
       "    distance_algorithm::Symbol = :auto,\n",
       "    parallel_approach::Symbol = :auto,\n",
       "    use_distance_weighting::Bool = true,\n",
       "    kwargs...\n",
       ")\n",
       "\\end{verbatim}\n",
       "\\begin{verbatim}\n",
       "fragmentation(\n",
       "    adj::Union{SparseMatrixCSC{Float64, Int64}, Matrix{Float64}};;\n",
       "    kwargs...\n",
       ")\n",
       "\\end{verbatim}\n",
       "\\subsection{Function Arguments}\n",
       "\\begin{itemize}\n",
       "\\item \\texttt{graph}: graph on which to calculate fragmentation\n",
       "\n",
       "\n",
       "\\item \\texttt{dict\\_arrays}: optional dictionary mapping relevant algorithm keys to arrays–   DArrays, SharedArrays (not recommended unless size is very large), or    Vectors–storing intermediate calculations.\n",
       "\n",
       "\\begin{itemize}\n",
       "\\item Only effective if fixing \\texttt{distance\\_algorithm} to align with the arrays   that are passed\n",
       "\n",
       "\n",
       "\\item See ?GraphDistanceAlgorithms.spawn\\_arrays for more information on the    inputs required.\n",
       "\n",
       "\\end{itemize}\n",
       "\\end{itemize}\n",
       "\\subsection{Keyword Arguments}\n",
       "\\begin{itemize}\n",
       "\\item \\texttt{D\\_invs}: optional matrix (with 0 diagonal) of inverse distances. Passing    this optional argument can speed up calculations considerably.\n",
       "\n",
       "\\textbf{CAUTION} This function assumes that \\texttt{D\\_invs} is complete with 0s along        the diagonal.\n",
       "\n",
       "\n",
       "\\item \\texttt{distance\\_algorithm}: distance489503algorithm to use in computing distances. Called   if \\texttt{D\\_invs} is not specified\n",
       "\n",
       "\n",
       "\\item \\texttt{parallel\\_approach}: \\texttt{fragmentation} will automatically try to implement    parallel calculation if \\texttt{try\\_parallel(graph) == true}. \\texttt{parallel\\_approach}   can take one of three values:\n",
       "\n",
       "\\begin{itemize}\n",
       "\\item \\texttt{:auto}: choose based on \\texttt{try\\_parallel(graph)}\n",
       "\n",
       "\n",
       "\\item \\texttt{:parallel}: Force a parallel implementation (slower on small graphs)\n",
       "\n",
       "\n",
       "\\item \\texttt{:serial}: Force a serial implementation (slower on large graphs)\n",
       "\n",
       "\\end{itemize}\n",
       "\n",
       "\\item \\texttt{use\\_distance\\_weighting}: use distance-weigthed fragmentation? If False,    defaults to adjacency only. \n",
       "\n",
       "\n",
       "\\item \\texttt{kwargs...}: passed to distance algorithm. Include options for heap vectors    etc.\n",
       "\n",
       "\\end{itemize}\n"
      ],
      "text/markdown": [
       "Calculate the fragmentation of a graph (KPP-Negative)\n",
       "\n",
       "# Constructs\n",
       "\n",
       "```\n",
       "fragmentation(\n",
       "    graph::Union{AbstractGraph, Nothing}, \n",
       "    dict_arrays::Union{Dict{Symbol, Vector}, Dict{Symbol, DArray}, Nothing} = nothing;\n",
       "    D_invs::Union{Matrix{Int64}, Matrix{Float64}, Nothing} = nothing,\n",
       "    distance_algorithm::Symbol = :auto,\n",
       "    parallel_approach::Symbol = :auto,\n",
       "    use_distance_weighting::Bool = true,\n",
       "    kwargs...\n",
       ")\n",
       "```\n",
       "\n",
       "```\n",
       "fragmentation(\n",
       "    adj::Union{SparseMatrixCSC{Float64, Int64}, Matrix{Float64}};;\n",
       "    kwargs...\n",
       ")\n",
       "```\n",
       "\n",
       "## Function Arguments\n",
       "\n",
       "  * `graph`: graph on which to calculate fragmentation\n",
       "  * `dict_arrays`: optional dictionary mapping relevant algorithm keys to arrays–   DArrays, SharedArrays (not recommended unless size is very large), or    Vectors–storing intermediate calculations.\n",
       "\n",
       "      * Only effective if fixing `distance_algorithm` to align with the arrays   that are passed\n",
       "      * See ?GraphDistanceAlgorithms.spawn_arrays for more information on the    inputs required.\n",
       "\n",
       "## Keyword Arguments\n",
       "\n",
       "  * `D_invs`: optional matrix (with 0 diagonal) of inverse distances. Passing    this optional argument can speed up calculations considerably.\n",
       "\n",
       "    **CAUTION** This function assumes that `D_invs` is complete with 0s along        the diagonal.\n",
       "  * `distance_algorithm`: distance489503algorithm to use in computing distances. Called   if `D_invs` is not specified\n",
       "  * `parallel_approach`: `fragmentation` will automatically try to implement    parallel calculation if `try_parallel(graph) == true`. `parallel_approach`   can take one of three values:\n",
       "\n",
       "      * `:auto`: choose based on `try_parallel(graph)`\n",
       "      * `:parallel`: Force a parallel implementation (slower on small graphs)\n",
       "      * `:serial`: Force a serial implementation (slower on large graphs)\n",
       "  * `use_distance_weighting`: use distance-weigthed fragmentation? If False,    defaults to adjacency only.\n",
       "  * `kwargs...`: passed to distance algorithm. Include options for heap vectors    etc.\n"
      ],
      "text/plain": [
       "  Calculate the fragmentation of a graph (KPP-Negative)\n",
       "\n",
       "\u001b[1m  Constructs\u001b[22m\n",
       "\u001b[1m  ≡≡≡≡≡≡≡≡≡≡\u001b[22m\n",
       "\n",
       "\u001b[36m  fragmentation(\u001b[39m\n",
       "\u001b[36m      graph::Union{AbstractGraph, Nothing}, \u001b[39m\n",
       "\u001b[36m      dict_arrays::Union{Dict{Symbol, Vector}, Dict{Symbol, DArray}, Nothing} = nothing;\u001b[39m\n",
       "\u001b[36m      D_invs::Union{Matrix{Int64}, Matrix{Float64}, Nothing} = nothing,\u001b[39m\n",
       "\u001b[36m      distance_algorithm::Symbol = :auto,\u001b[39m\n",
       "\u001b[36m      parallel_approach::Symbol = :auto,\u001b[39m\n",
       "\u001b[36m      use_distance_weighting::Bool = true,\u001b[39m\n",
       "\u001b[36m      kwargs...\u001b[39m\n",
       "\u001b[36m  )\u001b[39m\n",
       "\n",
       "\u001b[36m  fragmentation(\u001b[39m\n",
       "\u001b[36m      adj::Union{SparseMatrixCSC{Float64, Int64}, Matrix{Float64}};;\u001b[39m\n",
       "\u001b[36m      kwargs...\u001b[39m\n",
       "\u001b[36m  )\u001b[39m\n",
       "\n",
       "\u001b[1m  Function Arguments\u001b[22m\n",
       "\u001b[1m  ==================\u001b[22m\n",
       "\n",
       "    •  \u001b[36mgraph\u001b[39m: graph on which to calculate fragmentation\n",
       "\n",
       "    •  \u001b[36mdict_arrays\u001b[39m: optional dictionary mapping relevant algorithm keys\n",
       "       to arrays– DArrays, SharedArrays (not recommended unless size is\n",
       "       very large), or Vectors–storing intermediate calculations.\n",
       "       • Only effective if fixing \u001b[36mdistance_algorithm\u001b[39m to align\n",
       "       with the arrays that are passed\n",
       "       • See ?GraphDistanceAlgorithms.spawn_arrays for more\n",
       "       information on the inputs required.\n",
       "\n",
       "\u001b[1m  Keyword Arguments\u001b[22m\n",
       "\u001b[1m  =================\u001b[22m\n",
       "\n",
       "    •  \u001b[36mD_invs\u001b[39m: optional matrix (with 0 diagonal) of inverse distances.\n",
       "       Passing this optional argument can speed up calculations\n",
       "       considerably.\n",
       "       \u001b[1mCAUTION\u001b[22m This function assumes that \u001b[36mD_invs\u001b[39m is complete with 0s\n",
       "       along the diagonal.\n",
       "\n",
       "    •  \u001b[36mdistance_algorithm\u001b[39m: distance489503algorithm to use in computing\n",
       "       distances. Called if \u001b[36mD_invs\u001b[39m is not specified\n",
       "\n",
       "    •  \u001b[36mparallel_approach\u001b[39m: \u001b[36mfragmentation\u001b[39m will automatically try to\n",
       "       implement parallel calculation if \u001b[36mtry_parallel(graph) == true\u001b[39m.\n",
       "       \u001b[36mparallel_approach\u001b[39m can take one of three values:\n",
       "       • \u001b[36m:auto\u001b[39m: choose based on \u001b[36mtry_parallel(graph)\u001b[39m\n",
       "       • \u001b[36m:parallel\u001b[39m: Force a parallel implementation (slower on\n",
       "       small graphs)\n",
       "       • \u001b[36m:serial\u001b[39m: Force a serial implementation (slower on large\n",
       "       graphs)\n",
       "\n",
       "    •  \u001b[36muse_distance_weighting\u001b[39m: use distance-weigthed fragmentation? If\n",
       "       False, defaults to adjacency only.\n",
       "\n",
       "    •  \u001b[36mkwargs...\u001b[39m: passed to distance algorithm. Include options for heap\n",
       "       vectors etc."
      ]
     },
     "execution_count": 4,
     "metadata": {},
     "output_type": "execute_result"
    }
   ],
   "source": [
    "?GraphFragments.fragmentation"
   ]
  },
  {
   "cell_type": "markdown",
   "id": "e15e3d81-5be3-4b53-90f6-041d42eb8e5a",
   "metadata": {},
   "source": [
    "# Let's try calculating fragmentation on some graphs\n"
   ]
  },
  {
   "cell_type": "code",
   "execution_count": 5,
   "id": "24944d69-d341-480d-acf4-a9283908f87b",
   "metadata": {},
   "outputs": [],
   "source": [
    "# generate a random graph and a wheel graph\n",
    "graph = Graphs.SimpleGraphs.random_regular_graph(1000, 5);\n",
    "graph_wheel = Graphs.SimpleGraphs.wheel_graph(1000);\n"
   ]
  },
  {
   "cell_type": "markdown",
   "id": "25773700-40b8-441c-97bf-642d1111a69e",
   "metadata": {},
   "source": [
    "# Compare serial and distributed approach\n",
    "- Simple functions that iterate over each source vertex and calculate a metric\n"
   ]
  },
  {
   "cell_type": "markdown",
   "id": "08a65d54-e96a-4fd5-9da8-373b009109a0",
   "metadata": {},
   "source": [
    "###   Serial approach requires us to specify `parallel_approach = :serial`\n",
    "Run once to compile before benchmarking"
   ]
  },
  {
   "cell_type": "code",
   "execution_count": 5,
   "id": "a59888d2-02a5-4f14-8c6f-62aa08496657",
   "metadata": {},
   "outputs": [
    {
     "name": "stdout",
     "output_type": "stream",
     "text": [
      "  0.506301 seconds (3.08 M allocations: 227.888 MiB, 8.72% gc time, 93.40% compilation time)\n"
     ]
    },
    {
     "data": {
      "text/plain": [
       "0.7734361885695218"
      ]
     },
     "execution_count": 5,
     "metadata": {},
     "output_type": "execute_result"
    }
   ],
   "source": [
    "@time GraphFragments.fragmentation(graph, parallel_approach = :serial)"
   ]
  },
  {
   "cell_type": "code",
   "execution_count": 49,
   "id": "5e540120-121c-4a57-93e5-cca75bf3a2e5",
   "metadata": {},
   "outputs": [
    {
     "data": {
      "text/plain": [
       "BenchmarkTools.Trial: 204 samples with 1 evaluation per sample.\n",
       " Range \u001b[90m(\u001b[39m\u001b[36m\u001b[1mmin\u001b[22m\u001b[39m … \u001b[35mmax\u001b[39m\u001b[90m):  \u001b[39m\u001b[36m\u001b[1m23.038 ms\u001b[22m\u001b[39m … \u001b[35m38.967 ms\u001b[39m  \u001b[90m┊\u001b[39m GC \u001b[90m(\u001b[39mmin … max\u001b[90m): \u001b[39m0.00% … 39.78%\n",
       " Time  \u001b[90m(\u001b[39m\u001b[34m\u001b[1mmedian\u001b[22m\u001b[39m\u001b[90m):     \u001b[39m\u001b[34m\u001b[1m23.609 ms              \u001b[22m\u001b[39m\u001b[90m┊\u001b[39m GC \u001b[90m(\u001b[39mmedian\u001b[90m):    \u001b[39m0.00%\n",
       " Time  \u001b[90m(\u001b[39m\u001b[32m\u001b[1mmean\u001b[22m\u001b[39m ± \u001b[32mσ\u001b[39m\u001b[90m):   \u001b[39m\u001b[32m\u001b[1m24.574 ms\u001b[22m\u001b[39m ± \u001b[32m 3.329 ms\u001b[39m  \u001b[90m┊\u001b[39m GC \u001b[90m(\u001b[39mmean ± σ\u001b[90m):  \u001b[39m3.68% ±  9.11%\n",
       "\n",
       "  \u001b[39m \u001b[39m█\u001b[34m█\u001b[39m\u001b[39m▃\u001b[39m \u001b[39m \u001b[32m \u001b[39m\u001b[39m \u001b[39m \u001b[39m \u001b[39m \u001b[39m \u001b[39m \u001b[39m \u001b[39m \u001b[39m \u001b[39m \u001b[39m \u001b[39m \u001b[39m \u001b[39m \u001b[39m \u001b[39m \u001b[39m \u001b[39m \u001b[39m \u001b[39m \u001b[39m \u001b[39m \u001b[39m \u001b[39m \u001b[39m \u001b[39m \u001b[39m \u001b[39m \u001b[39m \u001b[39m \u001b[39m \u001b[39m \u001b[39m \u001b[39m \u001b[39m \u001b[39m \u001b[39m \u001b[39m \u001b[39m \u001b[39m \u001b[39m \u001b[39m \u001b[39m \u001b[39m \u001b[39m \u001b[39m \u001b[39m \u001b[39m \u001b[39m \u001b[39m \u001b[39m \u001b[39m \u001b[39m \u001b[39m \n",
       "  \u001b[39m▆\u001b[39m█\u001b[34m█\u001b[39m\u001b[39m█\u001b[39m▇\u001b[39m▆\u001b[32m▆\u001b[39m\u001b[39m▁\u001b[39m▆\u001b[39m▄\u001b[39m▄\u001b[39m▁\u001b[39m▁\u001b[39m▁\u001b[39m▁\u001b[39m▁\u001b[39m▁\u001b[39m▁\u001b[39m▁\u001b[39m▁\u001b[39m▁\u001b[39m▁\u001b[39m▁\u001b[39m▁\u001b[39m▁\u001b[39m▁\u001b[39m▁\u001b[39m▁\u001b[39m▁\u001b[39m▁\u001b[39m▁\u001b[39m▁\u001b[39m▁\u001b[39m▁\u001b[39m▁\u001b[39m▁\u001b[39m▁\u001b[39m▁\u001b[39m▁\u001b[39m▁\u001b[39m▁\u001b[39m▁\u001b[39m▁\u001b[39m▄\u001b[39m▁\u001b[39m▁\u001b[39m▆\u001b[39m▄\u001b[39m▄\u001b[39m▄\u001b[39m▆\u001b[39m▆\u001b[39m▁\u001b[39m▄\u001b[39m▁\u001b[39m▁\u001b[39m▁\u001b[39m▁\u001b[39m▄\u001b[39m \u001b[39m▆\n",
       "  23 ms\u001b[90m        \u001b[39m\u001b[90mHistogram: \u001b[39m\u001b[90m\u001b[1mlog(\u001b[22m\u001b[39m\u001b[90mfrequency\u001b[39m\u001b[90m\u001b[1m)\u001b[22m\u001b[39m\u001b[90m by time\u001b[39m      38.7 ms \u001b[0m\u001b[1m<\u001b[22m\n",
       "\n",
       " Memory estimate\u001b[90m: \u001b[39m\u001b[33m20.39 MiB\u001b[39m, allocs estimate\u001b[90m: \u001b[39m\u001b[33m16537\u001b[39m."
      ]
     },
     "execution_count": 49,
     "metadata": {},
     "output_type": "execute_result"
    }
   ],
   "source": [
    "@benchmark GraphFragments.fragmentation(graph, parallel_approach = :serial)"
   ]
  },
  {
   "cell_type": "markdown",
   "id": "a4257687-0657-4ab7-afb4-98a2f39a4fc4",
   "metadata": {},
   "source": [
    "###   To take advantage of parallelization, we should be explicit about the algorithm we're using and leverage cache arrays\n",
    "\n",
    "- It's better to be explicit and set `parallel_approach = :parallel`\n",
    "- Use `spawn_arrays` to prealocate array space for a graph `graph`\n",
    "    - allows for `DistributedArrays` (recommended) and `SharedArrays` (not-recommended, performs worse on most graphs)\n",
    "- This applies to fragmentation calculation and use of `DiscreteGraphAlgorithms` and `IterativeHeaps`\n",
    "- Call `spawn_arrays` to build a dictionary of pre-allocated, shared (accessible by different processes) arrays\n",
    "    - Default are `type = :DistributedArrays` (`DArrays`), which are used for parallel runs\n",
    "    - Note that, if running in serial, use `type = :Vector`\n",
    "    - If you generate spawn arrays, make sure you pass the proper `parallel_approach` to the function as well\n",
    "- Compile before benchmarking by running once\n"
   ]
  },
  {
   "cell_type": "code",
   "execution_count": 24,
   "id": "9b63703f-5fd8-4c36-a491-d4842909cbce",
   "metadata": {},
   "outputs": [
    {
     "name": "stdout",
     "output_type": "stream",
     "text": [
      "  0.021955 seconds (6.21 k allocations: 1.937 MiB)\n"
     ]
    },
    {
     "data": {
      "text/plain": [
       "0.7734773154106485"
      ]
     },
     "execution_count": 24,
     "metadata": {},
     "output_type": "execute_result"
    }
   ],
   "source": [
    "algo = :dijkstra_kary\n",
    "dict_arrays = spawn_arrays(graph, algo; )\n",
    "\n",
    "@time GraphFragments.fragmentation(\n",
    "    graph, \n",
    "    dict_arrays; \n",
    "    distance_algorithm = algo, \n",
    "    parallel_approach = :parallel,\n",
    ")"
   ]
  },
  {
   "cell_type": "markdown",
   "id": "51cc9ed3-9722-4d98-ad46-043e2a6226f7",
   "metadata": {},
   "source": [
    "**NOTE:** `dict_arrays` is shared and used to store intermediate calculations, including heap variables, parents, and distances. Its contents should not be modified."
   ]
  },
  {
   "cell_type": "code",
   "execution_count": 51,
   "id": "db6dc92d-a7dc-445d-93e3-75904182c416",
   "metadata": {},
   "outputs": [
    {
     "data": {
      "text/plain": [
       "BenchmarkTools.Trial: 554 samples with 1 evaluation per sample.\n",
       " Range \u001b[90m(\u001b[39m\u001b[36m\u001b[1mmin\u001b[22m\u001b[39m … \u001b[35mmax\u001b[39m\u001b[90m):  \u001b[39m\u001b[36m\u001b[1m7.959 ms\u001b[22m\u001b[39m … \u001b[35m23.865 ms\u001b[39m  \u001b[90m┊\u001b[39m GC \u001b[90m(\u001b[39mmin … max\u001b[90m): \u001b[39m0.00% … 65.25%\n",
       " Time  \u001b[90m(\u001b[39m\u001b[34m\u001b[1mmedian\u001b[22m\u001b[39m\u001b[90m):     \u001b[39m\u001b[34m\u001b[1m8.485 ms              \u001b[22m\u001b[39m\u001b[90m┊\u001b[39m GC \u001b[90m(\u001b[39mmedian\u001b[90m):    \u001b[39m0.00%\n",
       " Time  \u001b[90m(\u001b[39m\u001b[32m\u001b[1mmean\u001b[22m\u001b[39m ± \u001b[32mσ\u001b[39m\u001b[90m):   \u001b[39m\u001b[32m\u001b[1m9.028 ms\u001b[22m\u001b[39m ± \u001b[32m 1.443 ms\u001b[39m  \u001b[90m┊\u001b[39m GC \u001b[90m(\u001b[39mmean ± σ\u001b[90m):  \u001b[39m0.89% ±  4.72%\n",
       "\n",
       "  \u001b[39m \u001b[39m▂\u001b[39m█\u001b[39m▆\u001b[39m \u001b[39m \u001b[34m \u001b[39m\u001b[39m \u001b[39m \u001b[39m \u001b[39m \u001b[39m \u001b[32m \u001b[39m\u001b[39m \u001b[39m \u001b[39m \u001b[39m \u001b[39m \u001b[39m \u001b[39m \u001b[39m \u001b[39m \u001b[39m \u001b[39m \u001b[39m \u001b[39m \u001b[39m \u001b[39m \u001b[39m \u001b[39m \u001b[39m \u001b[39m \u001b[39m \u001b[39m \u001b[39m \u001b[39m \u001b[39m \u001b[39m \u001b[39m \u001b[39m \u001b[39m \u001b[39m \u001b[39m \u001b[39m \u001b[39m \u001b[39m \u001b[39m \u001b[39m \u001b[39m \u001b[39m \u001b[39m \u001b[39m \u001b[39m \u001b[39m \u001b[39m \u001b[39m \u001b[39m \u001b[39m \u001b[39m \u001b[39m \n",
       "  \u001b[39m▄\u001b[39m█\u001b[39m█\u001b[39m█\u001b[39m▇\u001b[39m▄\u001b[34m▄\u001b[39m\u001b[39m▄\u001b[39m▄\u001b[39m▄\u001b[39m▃\u001b[39m▄\u001b[32m▄\u001b[39m\u001b[39m▃\u001b[39m▅\u001b[39m▅\u001b[39m▄\u001b[39m▄\u001b[39m▄\u001b[39m▅\u001b[39m▄\u001b[39m▄\u001b[39m▃\u001b[39m▃\u001b[39m▄\u001b[39m▃\u001b[39m▂\u001b[39m▂\u001b[39m▃\u001b[39m▃\u001b[39m▂\u001b[39m▃\u001b[39m▂\u001b[39m▁\u001b[39m▁\u001b[39m▁\u001b[39m▂\u001b[39m▂\u001b[39m▂\u001b[39m▁\u001b[39m▂\u001b[39m▁\u001b[39m▂\u001b[39m▁\u001b[39m▁\u001b[39m▁\u001b[39m▁\u001b[39m▁\u001b[39m▁\u001b[39m▁\u001b[39m▂\u001b[39m▁\u001b[39m▁\u001b[39m▁\u001b[39m▁\u001b[39m▂\u001b[39m▁\u001b[39m▃\u001b[39m \u001b[39m▃\n",
       "  7.96 ms\u001b[90m        Histogram: frequency by time\u001b[39m        13.3 ms \u001b[0m\u001b[1m<\u001b[22m\n",
       "\n",
       " Memory estimate\u001b[90m: \u001b[39m\u001b[33m1.94 MiB\u001b[39m, allocs estimate\u001b[90m: \u001b[39m\u001b[33m6226\u001b[39m."
      ]
     },
     "execution_count": 51,
     "metadata": {},
     "output_type": "execute_result"
    }
   ],
   "source": [
    "@benchmark GraphFragments.fragmentation(\n",
    "    graph, \n",
    "    dict_arrays; \n",
    "    distance_algorithm = algo, \n",
    "    parallel_approach = :parallel,\n",
    ")"
   ]
  },
  {
   "cell_type": "markdown",
   "id": "e5bc4def-6a44-457e-b8e6-bc2823f399f6",
   "metadata": {},
   "source": [
    "# Next, let's compare fragmentation calculation on the wheel graph\n",
    "\n",
    "- Some graphs are relatively efficient in serial\n",
    "- 1000 node wheel graph is only _slightly_ faster in parallel"
   ]
  },
  {
   "cell_type": "code",
   "execution_count": 52,
   "id": "03a62550-c85e-49b0-84e8-066975e00d4a",
   "metadata": {},
   "outputs": [
    {
     "name": "stdout",
     "output_type": "stream",
     "text": [
      "  0.011792 seconds (16.54 k allocations: 20.390 MiB)\n"
     ]
    },
    {
     "data": {
      "text/plain": [
       "0.498"
      ]
     },
     "execution_count": 52,
     "metadata": {},
     "output_type": "execute_result"
    }
   ],
   "source": [
    "# serial\n",
    "@time GraphFragments.fragmentation(\n",
    "    graph_wheel,\n",
    "    parallel_approach = :serial\n",
    ")"
   ]
  },
  {
   "cell_type": "code",
   "execution_count": 13,
   "id": "bea3f484-212e-48d5-a77e-ff1a27c86d50",
   "metadata": {},
   "outputs": [
    {
     "data": {
      "text/plain": [
       "BenchmarkTools.Trial: 600 samples with 1 evaluation per sample.\n",
       " Range \u001b[90m(\u001b[39m\u001b[36m\u001b[1mmin\u001b[22m\u001b[39m … \u001b[35mmax\u001b[39m\u001b[90m):  \u001b[39m\u001b[36m\u001b[1m6.491 ms\u001b[22m\u001b[39m … \u001b[35m22.349 ms\u001b[39m  \u001b[90m┊\u001b[39m GC \u001b[90m(\u001b[39mmin … max\u001b[90m): \u001b[39m 0.00% … 64.96%\n",
       " Time  \u001b[90m(\u001b[39m\u001b[34m\u001b[1mmedian\u001b[22m\u001b[39m\u001b[90m):     \u001b[39m\u001b[34m\u001b[1m7.551 ms              \u001b[22m\u001b[39m\u001b[90m┊\u001b[39m GC \u001b[90m(\u001b[39mmedian\u001b[90m):    \u001b[39m 0.00%\n",
       " Time  \u001b[90m(\u001b[39m\u001b[32m\u001b[1mmean\u001b[22m\u001b[39m ± \u001b[32mσ\u001b[39m\u001b[90m):   \u001b[39m\u001b[32m\u001b[1m8.332 ms\u001b[22m\u001b[39m ± \u001b[32m 1.681 ms\u001b[39m  \u001b[90m┊\u001b[39m GC \u001b[90m(\u001b[39mmean ± σ\u001b[90m):  \u001b[39m11.60% ± 14.05%\n",
       "\n",
       "  \u001b[39m \u001b[39m \u001b[39m \u001b[39m▂\u001b[39m▆\u001b[39m▇\u001b[39m█\u001b[39m▃\u001b[39m▁\u001b[34m \u001b[39m\u001b[39m \u001b[39m \u001b[39m \u001b[39m \u001b[39m \u001b[39m \u001b[32m \u001b[39m\u001b[39m \u001b[39m \u001b[39m \u001b[39m \u001b[39m \u001b[39m \u001b[39m \u001b[39m \u001b[39m \u001b[39m \u001b[39m \u001b[39m \u001b[39m \u001b[39m \u001b[39m \u001b[39m \u001b[39m \u001b[39m \u001b[39m \u001b[39m \u001b[39m \u001b[39m \u001b[39m \u001b[39m \u001b[39m \u001b[39m \u001b[39m \u001b[39m \u001b[39m \u001b[39m \u001b[39m \u001b[39m \u001b[39m \u001b[39m \u001b[39m \u001b[39m \u001b[39m \u001b[39m \u001b[39m \u001b[39m \u001b[39m \u001b[39m \u001b[39m \n",
       "  \u001b[39m▃\u001b[39m▃\u001b[39m▅\u001b[39m█\u001b[39m█\u001b[39m█\u001b[39m█\u001b[39m█\u001b[39m█\u001b[34m▆\u001b[39m\u001b[39m▆\u001b[39m▅\u001b[39m▅\u001b[39m▅\u001b[39m▄\u001b[39m▃\u001b[32m▄\u001b[39m\u001b[39m▃\u001b[39m▄\u001b[39m▄\u001b[39m▄\u001b[39m▄\u001b[39m▃\u001b[39m▄\u001b[39m▃\u001b[39m▄\u001b[39m▄\u001b[39m▄\u001b[39m▄\u001b[39m▄\u001b[39m▄\u001b[39m▅\u001b[39m▄\u001b[39m▄\u001b[39m▄\u001b[39m▂\u001b[39m▃\u001b[39m▄\u001b[39m▃\u001b[39m▃\u001b[39m▄\u001b[39m▂\u001b[39m▂\u001b[39m▃\u001b[39m▃\u001b[39m▃\u001b[39m▁\u001b[39m▂\u001b[39m▁\u001b[39m▂\u001b[39m▂\u001b[39m▂\u001b[39m▁\u001b[39m▁\u001b[39m▂\u001b[39m▁\u001b[39m▁\u001b[39m▂\u001b[39m \u001b[39m▃\n",
       "  6.49 ms\u001b[90m        Histogram: frequency by time\u001b[39m        13.3 ms \u001b[0m\u001b[1m<\u001b[22m\n",
       "\n",
       " Memory estimate\u001b[90m: \u001b[39m\u001b[33m20.39 MiB\u001b[39m, allocs estimate\u001b[90m: \u001b[39m\u001b[33m16537\u001b[39m."
      ]
     },
     "execution_count": 13,
     "metadata": {},
     "output_type": "execute_result"
    }
   ],
   "source": [
    "@benchmark GraphFragments.fragmentation(\n",
    "    graph_wheel, \n",
    "    parallel_approach = :serial\n",
    ")"
   ]
  },
  {
   "cell_type": "code",
   "execution_count": 14,
   "id": "4833b9c4-2bcf-4dd7-b967-d0b3444ac868",
   "metadata": {},
   "outputs": [
    {
     "name": "stdout",
     "output_type": "stream",
     "text": [
      "  0.008438 seconds (6.17 k allocations: 1.864 MiB)\n"
     ]
    },
    {
     "data": {
      "text/plain": [
       "0.498"
      ]
     },
     "execution_count": 14,
     "metadata": {},
     "output_type": "execute_result"
    }
   ],
   "source": [
    "algo = :dijkstra_kary\n",
    "\n",
    "dict_arrays_wheel = spawn_arrays(graph_wheel, algo; )\n",
    "\n",
    "@time GraphFragments.fragmentation(\n",
    "    graph_wheel, \n",
    "    dict_arrays_wheel; \n",
    "    distance_algorithm = algo, \n",
    "    parallel_approach = :parallel,\n",
    ")"
   ]
  },
  {
   "cell_type": "code",
   "execution_count": 15,
   "id": "96e13124-8220-4cad-8c73-17d35afd88df",
   "metadata": {},
   "outputs": [
    {
     "data": {
      "text/plain": [
       "BenchmarkTools.Trial: 782 samples with 1 evaluation per sample.\n",
       " Range \u001b[90m(\u001b[39m\u001b[36m\u001b[1mmin\u001b[22m\u001b[39m … \u001b[35mmax\u001b[39m\u001b[90m):  \u001b[39m\u001b[36m\u001b[1m5.362 ms\u001b[22m\u001b[39m … \u001b[35m15.571 ms\u001b[39m  \u001b[90m┊\u001b[39m GC \u001b[90m(\u001b[39mmin … max\u001b[90m): \u001b[39m0.00% … 60.58%\n",
       " Time  \u001b[90m(\u001b[39m\u001b[34m\u001b[1mmedian\u001b[22m\u001b[39m\u001b[90m):     \u001b[39m\u001b[34m\u001b[1m5.618 ms              \u001b[22m\u001b[39m\u001b[90m┊\u001b[39m GC \u001b[90m(\u001b[39mmedian\u001b[90m):    \u001b[39m0.00%\n",
       " Time  \u001b[90m(\u001b[39m\u001b[32m\u001b[1mmean\u001b[22m\u001b[39m ± \u001b[32mσ\u001b[39m\u001b[90m):   \u001b[39m\u001b[32m\u001b[1m6.392 ms\u001b[22m\u001b[39m ± \u001b[32m 1.314 ms\u001b[39m  \u001b[90m┊\u001b[39m GC \u001b[90m(\u001b[39mmean ± σ\u001b[90m):  \u001b[39m1.35% ±  5.67%\n",
       "\n",
       "  \u001b[39m▃\u001b[39m█\u001b[39m▇\u001b[34m▃\u001b[39m\u001b[39m▂\u001b[39m \u001b[39m \u001b[39m \u001b[39m \u001b[39m \u001b[39m \u001b[32m \u001b[39m\u001b[39m \u001b[39m \u001b[39m \u001b[39m \u001b[39m \u001b[39m▃\u001b[39m▃\u001b[39m▃\u001b[39m▂\u001b[39m▁\u001b[39m \u001b[39m \u001b[39m \u001b[39m \u001b[39m \u001b[39m \u001b[39m \u001b[39m \u001b[39m \u001b[39m \u001b[39m \u001b[39m \u001b[39m \u001b[39m \u001b[39m \u001b[39m \u001b[39m \u001b[39m \u001b[39m \u001b[39m \u001b[39m \u001b[39m \u001b[39m \u001b[39m \u001b[39m \u001b[39m \u001b[39m \u001b[39m \u001b[39m \u001b[39m \u001b[39m \u001b[39m \u001b[39m \u001b[39m \u001b[39m \u001b[39m \u001b[39m \u001b[39m \n",
       "  \u001b[39m█\u001b[39m█\u001b[39m█\u001b[34m█\u001b[39m\u001b[39m█\u001b[39m▇\u001b[39m▇\u001b[39m▆\u001b[39m▇\u001b[39m▆\u001b[39m▇\u001b[32m▄\u001b[39m\u001b[39m▇\u001b[39m▇\u001b[39m▇\u001b[39m▇\u001b[39m▇\u001b[39m█\u001b[39m█\u001b[39m█\u001b[39m█\u001b[39m█\u001b[39m█\u001b[39m▆\u001b[39m█\u001b[39m▇\u001b[39m▇\u001b[39m▆\u001b[39m█\u001b[39m█\u001b[39m█\u001b[39m▆\u001b[39m▇\u001b[39m▇\u001b[39m▅\u001b[39m▄\u001b[39m▄\u001b[39m▇\u001b[39m▆\u001b[39m▆\u001b[39m▆\u001b[39m▄\u001b[39m▄\u001b[39m▄\u001b[39m▄\u001b[39m▄\u001b[39m▅\u001b[39m▁\u001b[39m▄\u001b[39m▁\u001b[39m▄\u001b[39m▄\u001b[39m▅\u001b[39m▄\u001b[39m▄\u001b[39m▄\u001b[39m▄\u001b[39m▄\u001b[39m \u001b[39m▇\n",
       "  5.36 ms\u001b[90m      \u001b[39m\u001b[90mHistogram: \u001b[39m\u001b[90m\u001b[1mlog(\u001b[22m\u001b[39m\u001b[90mfrequency\u001b[39m\u001b[90m\u001b[1m)\u001b[22m\u001b[39m\u001b[90m by time\u001b[39m     10.9 ms \u001b[0m\u001b[1m<\u001b[22m\n",
       "\n",
       " Memory estimate\u001b[90m: \u001b[39m\u001b[33m1.86 MiB\u001b[39m, allocs estimate\u001b[90m: \u001b[39m\u001b[33m6166\u001b[39m."
      ]
     },
     "execution_count": 15,
     "metadata": {},
     "output_type": "execute_result"
    }
   ],
   "source": [
    "@benchmark GraphFragments.fragmentation(\n",
    "    graph_wheel, \n",
    "    dict_arrays_wheel; \n",
    "    distance_algorithm = algo, \n",
    "    parallel_approach = :parallel,\n",
    ")"
   ]
  },
  {
   "cell_type": "markdown",
   "id": "67814bfd-a05c-4afd-9174-36e5f56077dd",
   "metadata": {},
   "source": [
    "# We can try different algorithms\n",
    "\n",
    "One key thing users should note is that not all algorithms perform the same on similar graphs. For example:\n",
    "\n",
    "- **Gradient Descent** (`graddesc_iterand`) can perform very poorly on larger graphs (large $|V|$) since it's an exhaustive algorithm, not greedy\n",
    "- The **Genetic** and **Ant Colony Optimization** algorithms respond extensively to tuning, and can perform better on larger graphs, though users shuold be cognizant of stopping conditions.\n",
    "    - For example, increasing the `population_size` will slow down the iteration speed, but can lead to a larger search space and fewer iterations\n",
    "    - Additionally, the `num_elite` parameter may perform better when a smaller fraction of larger populations to encourage larger search spaces\n",
    "    - Setting the `max_iter_no_improvement` can avoid repetitive searching that doesn't appear to improve \n",
    "\n",
    "\n",
    "Some key parameters that users should think about:\n",
    "\n",
    "- `max_iteration`: maximum number of iterations for an algorithm to complete. This should be set for different algorithms, as iterations in--for example--the **Greedy Stochastic** (`gs_iterand`), **Gradient Descent** (`graddesc_iterand`), and **Simulated Annealing** (`sann_iterand`) algorithms run much more quickly than the iterations in the **Genetic** (`genetic_iterand`) and **Ant Colony Optimization** (`aco_iterand`) algorithms.\n",
    "- `max_iter_no_improvement`: Setting this can prevent algorithms from running indefinitely if there is a continuous set of runs with no improvement\n"
   ]
  },
  {
   "cell_type": "markdown",
   "id": "45c846c3-5077-4fc8-8214-5b9ab276a29f",
   "metadata": {},
   "source": [
    "##  All algorithms call an `OptimizationParameters` object\n",
    "\n",
    "- Used to store parameters for the algorithms\n",
    "    - Different algorithms can share this object\n",
    "- Note that the `OptimizationParameters` object requires a `GraphWrapper`\n",
    "    - convert a graph using `graph_to_graph_wrapper`\n",
    "    - See `?GraphWrapper` for more information--you can add information to improve the analytical experience, such as:\n",
    "        - Add edge weights to the graph wrapper\n",
    "        - Add vertex names to the graph wrapper\n",
    "- Algorithm-specific options can be passed in a dictionary using the `opts` object\n",
    "    - Algorithm-specific options contain an algorithmic prefix; e.g., the `population_size` parameter in `aco_iterand` (Ant Colony Optimization) is passed using `:aco_population_size` (the `aco_` prefix is prepended to `population_size`)\n",
    "- We can pass a starting set--best guess--using the `S` key word in `OptimizationParameters`\n",
    "    - In the example below--often a good starting point for fragmentation--we choose nodes with the highest betweenness centrality\n",
    "        - Can choose other centrality measures as well--see `?get_default_kpp_nodes` for more inf ormation\n",
    "- Note: the `OptimizationParameters` object can be used to specify the `parallel_approach` as one of the following:\n",
    "    - `:auto` (choose based on graph size)\n",
    "    - `:parallel` (used available processes, shown with `nprocs()`\n",
    "    - `:serial` (use serial processes, better on small graphs)\n",
    "    - **IMPORTANT** If you specify this approach **and** specify `dict_arrays_distance`, make sure you spawn the correct type. In `spawn_arrays`, use `type = :DistributedArray` (default) when running in parallel and `type = :Vector` when running serially. If you use `parallel_approach = :auto` (Default in `OptimizationParameters`, then the arrays are spawned a part of the `OptimizationParameters` object, and you don't have to worry about it."
   ]
  },
  {
   "cell_type": "code",
   "execution_count": 26,
   "id": "cb6faaec-9c3e-46e9-98d4-78707a379e7c",
   "metadata": {},
   "outputs": [],
   "source": [
    "n_remove = 3\n",
    "\n",
    "algo = :dijkstra_kary\n",
    "dict_arrays = spawn_arrays(graph, algo; )\n",
    "graph_wrapped = graph_to_graph_wrapper(graph);\n",
    "S0 = get_default_kpp_nodes(graph, n_remove); \n",
    "\n",
    "# first, we setup some parameters\n",
    "params_graph_gs = OptimizationParameters(\n",
    "    n_remove,\n",
    "    graph_wrapped;\n",
    "    dict_arrays_distance = dict_arrays,\n",
    "    distance_algorithm = algo,\n",
    "    max_iter = 2000,\n",
    "    max_iter_no_improvement = 500,\n",
    "    S = S0,\n",
    ");"
   ]
  },
  {
   "cell_type": "markdown",
   "id": "2ad8d4ba-935f-4c91-ba69-2580fcb351b1",
   "metadata": {},
   "source": [
    "##  Try the Greedy Stochastic algorithm (`gs_iterand`)\n"
   ]
  },
  {
   "cell_type": "code",
   "execution_count": 15,
   "id": "f70d96b9-0d04-4be3-ac8a-a035a72884ec",
   "metadata": {},
   "outputs": [
    {
     "name": "stderr",
     "output_type": "stream",
     "text": [
      "\u001b[36m\u001b[1m[ \u001b[22m\u001b[39m\u001b[36m\u001b[1mInfo: \u001b[22m\u001b[39m1 iterations complete with value 0.774237677653346\n",
      "\u001b[36m\u001b[1m[ \u001b[22m\u001b[39m\u001b[36m\u001b[1mInfo: \u001b[22m\u001b[39m101 iterations complete with value 0.774237677653346\n",
      "\u001b[36m\u001b[1m[ \u001b[22m\u001b[39m\u001b[36m\u001b[1mInfo: \u001b[22m\u001b[39m201 iterations complete with value 0.774237677653346\n",
      "\u001b[36m\u001b[1m[ \u001b[22m\u001b[39m\u001b[36m\u001b[1mInfo: \u001b[22m\u001b[39m301 iterations complete with value 0.774237677653346\n",
      "\u001b[36m\u001b[1m[ \u001b[22m\u001b[39m\u001b[36m\u001b[1mInfo: \u001b[22m\u001b[39m401 iterations complete with value 0.774237677653346\n",
      "\u001b[36m\u001b[1m[ \u001b[22m\u001b[39m\u001b[36m\u001b[1mInfo: \u001b[22m\u001b[39m501 iterations complete with value 0.774237677653346\n",
      "\u001b[36m\u001b[1m[ \u001b[22m\u001b[39m\u001b[36m\u001b[1mInfo: \u001b[22m\u001b[39mStochastic gradiest descent complete in 501 iterations.\n"
     ]
    },
    {
     "name": "stdout",
     "output_type": "stream",
     "text": [
      "  6.143070 seconds (5.71 M allocations: 1.169 GiB, 5.26% gc time, 13.44% compilation time)\n"
     ]
    },
    {
     "data": {
      "text/plain": [
       "(0.774237677653346, [239, 409, 586], SimpleGraph{Int64}(2485, [[39, 121, 855, 912, 997], [173, 342, 672, 758, 826], [108, 161, 637, 667, 876], [49, 319, 369, 487, 591], [209, 286, 517, 593, 929], [302, 432, 487, 638, 713], [151, 188, 596, 683, 773], [183, 359, 543, 665, 982], [72, 608, 746, 853, 884], [134, 320, 418, 861, 955]  …  [50, 104, 136, 332, 461], [349, 367, 591, 759, 945], [218, 370, 510, 894, 977], [281, 379, 434, 487, 721], [15, 172, 533, 717, 804], [80, 330, 528, 549, 898], [178, 198, 341, 366, 811], [67, 123, 191, 588, 730], [58, 337, 634, 773, 983], [1, 187, 226, 862, 962]]))"
      ]
     },
     "execution_count": 15,
     "metadata": {},
     "output_type": "execute_result"
    }
   ],
   "source": [
    "@time DiscreteGraphAlgorithms.iterate(\n",
    "    gs_iterand,\n",
    "    params_graph_gs;\n",
    "    log_interval = 100,\n",
    ")"
   ]
  },
  {
   "cell_type": "markdown",
   "id": "1d046688-42bd-42bc-996d-decec615c82e",
   "metadata": {},
   "source": [
    "##  Try Simualted Annealing (`sann_iterand`)"
   ]
  },
  {
   "cell_type": "code",
   "execution_count": 22,
   "id": "21106502-f095-4c4d-8b12-4cfa670b336e",
   "metadata": {},
   "outputs": [
    {
     "name": "stderr",
     "output_type": "stream",
     "text": [
      "WARNING: both StatsBase and LazySets export \"sample\"; uses of it in module DiscreteGraphAlgorithms must be qualified\n",
      "\u001b[36m\u001b[1m[ \u001b[22m\u001b[39m\u001b[36m\u001b[1mInfo: \u001b[22m\u001b[39m1 iterations complete with value 0.7742178486118132\n",
      "\u001b[36m\u001b[1m[ \u001b[22m\u001b[39m\u001b[36m\u001b[1mInfo: \u001b[22m\u001b[39m101 iterations complete with value 0.7741523144687453\n",
      "\u001b[36m\u001b[1m[ \u001b[22m\u001b[39m\u001b[36m\u001b[1mInfo: \u001b[22m\u001b[39m201 iterations complete with value 0.7741690696491843\n",
      "\u001b[36m\u001b[1m[ \u001b[22m\u001b[39m\u001b[36m\u001b[1mInfo: \u001b[22m\u001b[39m301 iterations complete with value 0.7741626437929198\n",
      "\u001b[36m\u001b[1m[ \u001b[22m\u001b[39m\u001b[36m\u001b[1mInfo: \u001b[22m\u001b[39m401 iterations complete with value 0.7741055399896377\n",
      "\u001b[36m\u001b[1m[ \u001b[22m\u001b[39m\u001b[36m\u001b[1mInfo: \u001b[22m\u001b[39m501 iterations complete with value 0.7741421385978549\n",
      "\u001b[36m\u001b[1m[ \u001b[22m\u001b[39m\u001b[36m\u001b[1mInfo: \u001b[22m\u001b[39m601 iterations complete with value 0.7741519404263658\n",
      "\u001b[36m\u001b[1m[ \u001b[22m\u001b[39m\u001b[36m\u001b[1mInfo: \u001b[22m\u001b[39m701 iterations complete with value 0.7741130208372291\n",
      "\u001b[36m\u001b[1m[ \u001b[22m\u001b[39m\u001b[36m\u001b[1mInfo: \u001b[22m\u001b[39m801 iterations complete with value 0.774168273610274\n",
      "\u001b[36m\u001b[1m[ \u001b[22m\u001b[39m\u001b[36m\u001b[1mInfo: \u001b[22m\u001b[39m901 iterations complete with value 0.7741599008154696\n",
      "\u001b[36m\u001b[1m[ \u001b[22m\u001b[39m\u001b[36m\u001b[1mInfo: \u001b[22m\u001b[39m1001 iterations complete with value 0.7741724552122611\n",
      "\u001b[36m\u001b[1m[ \u001b[22m\u001b[39m\u001b[36m\u001b[1mInfo: \u001b[22m\u001b[39m1101 iterations complete with value 0.7741527460561064\n",
      "\u001b[36m\u001b[1m[ \u001b[22m\u001b[39m\u001b[36m\u001b[1mInfo: \u001b[22m\u001b[39m1201 iterations complete with value 0.7741172312117071\n",
      "\u001b[36m\u001b[1m[ \u001b[22m\u001b[39m\u001b[36m\u001b[1mInfo: \u001b[22m\u001b[39m1301 iterations complete with value 0.7741480753217768\n",
      "\u001b[36m\u001b[1m[ \u001b[22m\u001b[39m\u001b[36m\u001b[1mInfo: \u001b[22m\u001b[39m1401 iterations complete with value 0.7741255752340206\n",
      "\u001b[36m\u001b[1m[ \u001b[22m\u001b[39m\u001b[36m\u001b[1mInfo: \u001b[22m\u001b[39m1501 iterations complete with value 0.7741417022150786\n",
      "\u001b[36m\u001b[1m[ \u001b[22m\u001b[39m\u001b[36m\u001b[1mInfo: \u001b[22m\u001b[39m1601 iterations complete with value 0.7741474327361503\n",
      "\u001b[36m\u001b[1m[ \u001b[22m\u001b[39m\u001b[36m\u001b[1mInfo: \u001b[22m\u001b[39m1701 iterations complete with value 0.7741681249524052\n",
      "\u001b[36m\u001b[1m[ \u001b[22m\u001b[39m\u001b[36m\u001b[1mInfo: \u001b[22m\u001b[39m1801 iterations complete with value 0.774142574980631\n",
      "\u001b[36m\u001b[1m[ \u001b[22m\u001b[39m\u001b[36m\u001b[1mInfo: \u001b[22m\u001b[39m1901 iterations complete with value 0.7741554266931601\n",
      "\u001b[36m\u001b[1m[ \u001b[22m\u001b[39m\u001b[36m\u001b[1mInfo: \u001b[22m\u001b[39mSimulated annealing complete in 2000 iterations.\n"
     ]
    },
    {
     "name": "stdout",
     "output_type": "stream",
     "text": [
      " 23.468593 seconds (14.55 M allocations: 4.185 GiB, 3.06% gc time, 0.25% compilation time)\n"
     ]
    },
    {
     "data": {
      "text/plain": [
       "(0.7742178486118132, [259, 409, 586], SimpleGraph{Int64}(2485, [[39, 121, 855, 912, 997], [173, 342, 672, 758, 826], [108, 161, 637, 667, 876], [49, 319, 369, 487, 591], [209, 286, 517, 593, 929], [302, 432, 487, 638, 713], [151, 188, 596, 683, 773], [183, 359, 543, 665, 982], [72, 608, 746, 853, 884], [134, 320, 418, 861, 955]  …  [50, 104, 136, 332, 461], [349, 367, 591, 759, 945], [218, 370, 510, 894, 977], [281, 379, 434, 487, 721], [15, 172, 533, 717, 804], [80, 330, 528, 549, 898], [178, 198, 341, 366, 811], [67, 123, 191, 588, 730], [58, 337, 634, 773, 983], [1, 187, 226, 862, 962]]))"
      ]
     },
     "execution_count": 22,
     "metadata": {},
     "output_type": "execute_result"
    }
   ],
   "source": [
    "@time DiscreteGraphAlgorithms.iterate(\n",
    "    sann_iterand,\n",
    "    params_graph_gs;\n",
    "    log_interval = 100,\n",
    ")"
   ]
  },
  {
   "cell_type": "markdown",
   "id": "e4539264-27dd-4df7-8764-c70b5fea0984",
   "metadata": {},
   "source": [
    "##  Ant Colony Optimization\n",
    "- Since ACO is a bit slower for smaller graphs (we're only using 1000 nodes), we can decrease the `max_iter_no_improvement` parameter.\n",
    "- We'll use this `OptimizationParameters` for both the `genetic_iterand` and `aco_iterand`, so we pass those options in the `opts` keyword"
   ]
  },
  {
   "cell_type": "code",
   "execution_count": 17,
   "id": "7077d8be-2f23-4138-82f8-c06808c1fd04",
   "metadata": {},
   "outputs": [
    {
     "name": "stderr",
     "output_type": "stream",
     "text": [
      "\u001b[36m\u001b[1m[ \u001b[22m\u001b[39m\u001b[36m\u001b[1mInfo: \u001b[22m\u001b[39m1 iterations complete with value 0.774237677653346\n",
      "\u001b[36m\u001b[1m[ \u001b[22m\u001b[39m\u001b[36m\u001b[1mInfo: \u001b[22m\u001b[39m51 iterations complete with value 0.774237677653346\n",
      "\u001b[36m\u001b[1m[ \u001b[22m\u001b[39m\u001b[36m\u001b[1mInfo: \u001b[22m\u001b[39m101 iterations complete with value 0.774237677653346\n",
      "\u001b[36m\u001b[1m[ \u001b[22m\u001b[39m\u001b[36m\u001b[1mInfo: \u001b[22m\u001b[39m151 iterations complete with value 0.774237677653346\n",
      "\u001b[36m\u001b[1m[ \u001b[22m\u001b[39m\u001b[36m\u001b[1mInfo: \u001b[22m\u001b[39m201 iterations complete with value 0.774237677653346\n",
      "\u001b[36m\u001b[1m[ \u001b[22m\u001b[39m\u001b[36m\u001b[1mInfo: \u001b[22m\u001b[39m251 iterations complete with value 0.774237677653346\n",
      "\u001b[36m\u001b[1m[ \u001b[22m\u001b[39m\u001b[36m\u001b[1mInfo: \u001b[22m\u001b[39mAnt Colony algorithm complete in 251 iterations.\n"
     ]
    },
    {
     "name": "stdout",
     "output_type": "stream",
     "text": [
      " 93.021693 seconds (75.32 M allocations: 20.353 GiB, 1.34% gc time, 0.01% compilation time)\n"
     ]
    },
    {
     "data": {
      "text/plain": [
       "(0.774237677653346, [239, 409, 586], SimpleGraph{Int64}(2485, [[39, 121, 855, 912, 997], [173, 342, 672, 758, 826], [108, 161, 637, 667, 876], [49, 319, 369, 487, 591], [209, 286, 517, 593, 929], [302, 432, 487, 638, 713], [151, 188, 596, 683, 773], [183, 359, 543, 665, 982], [72, 608, 746, 853, 884], [134, 320, 418, 861, 955]  …  [50, 104, 136, 332, 461], [349, 367, 591, 759, 945], [218, 370, 510, 894, 977], [281, 379, 434, 487, 721], [15, 172, 533, 717, 804], [80, 330, 528, 549, 898], [178, 198, 341, 366, 811], [67, 123, 191, 588, 730], [58, 337, 634, 773, 983], [1, 187, 226, 862, 962]]))"
      ]
     },
     "execution_count": 17,
     "metadata": {},
     "output_type": "execute_result"
    }
   ],
   "source": [
    "# genetic and aco use similar approaches; we'll give them similar stopping conditions for maximum numbers of iterations\n",
    "params_graph_pso = OptimizationParameters(\n",
    "    n_remove,\n",
    "    graph_wrapped;\n",
    "    dict_arrays_distance = dict_arrays,\n",
    "    distance_algorithm = algo,\n",
    "    max_iter = 2000,\n",
    "    max_iter_no_improvement = 250,\n",
    "    opts = Dict{Symbol, Any}(\n",
    "        :aco_init_colony_with_op_s => true,\n",
    "        :aco_num_elite => 0.5,\n",
    "        :aco_population_size => 40,\n",
    "        :genetic_init_pop_with_op_s => true,\n",
    "        :genetic_num_elite => 0.5,\n",
    "        :genetic_population_size => 40,\n",
    "    ),\n",
    "    S = S0,\n",
    ");\n",
    "\n",
    "@time DiscreteGraphAlgorithms.iterate(\n",
    "    aco_iterand,\n",
    "    params_graph_pso;\n",
    "    log_interval = 50,\n",
    ")"
   ]
  },
  {
   "cell_type": "code",
   "execution_count": 18,
   "id": "0b31e9eb-1f22-498d-8a76-5062db4eb26b",
   "metadata": {},
   "outputs": [
    {
     "name": "stderr",
     "output_type": "stream",
     "text": [
      "\u001b[36m\u001b[1m[ \u001b[22m\u001b[39m\u001b[36m\u001b[1mInfo: \u001b[22m\u001b[39m1 iterations complete with value 0.774237677653346\n",
      "\u001b[36m\u001b[1m[ \u001b[22m\u001b[39m\u001b[36m\u001b[1mInfo: \u001b[22m\u001b[39m51 iterations complete with value 0.774237677653346\n",
      "\u001b[36m\u001b[1m[ \u001b[22m\u001b[39m\u001b[36m\u001b[1mInfo: \u001b[22m\u001b[39m101 iterations complete with value 0.774237677653346\n",
      "\u001b[36m\u001b[1m[ \u001b[22m\u001b[39m\u001b[36m\u001b[1mInfo: \u001b[22m\u001b[39m151 iterations complete with value 0.774237677653346\n",
      "\u001b[36m\u001b[1m[ \u001b[22m\u001b[39m\u001b[36m\u001b[1mInfo: \u001b[22m\u001b[39m201 iterations complete with value 0.774237677653346\n",
      "\u001b[36m\u001b[1m[ \u001b[22m\u001b[39m\u001b[36m\u001b[1mInfo: \u001b[22m\u001b[39m251 iterations complete with value 0.774237677653346\n",
      "\u001b[36m\u001b[1m[ \u001b[22m\u001b[39m\u001b[36m\u001b[1mInfo: \u001b[22m\u001b[39mGenetic algorithm complete in 251 iterations.\n"
     ]
    },
    {
     "name": "stdout",
     "output_type": "stream",
     "text": [
      " 46.507611 seconds (37.94 M allocations: 10.464 GiB, 1.66% gc time, 0.95% compilation time)\n"
     ]
    },
    {
     "data": {
      "text/plain": [
       "(0.774237677653346, [239, 409, 586], SimpleGraph{Int64}(2485, [[39, 121, 855, 912, 997], [173, 342, 672, 758, 826], [108, 161, 637, 667, 876], [49, 319, 369, 487, 591], [209, 286, 517, 593, 929], [302, 432, 487, 638, 713], [151, 188, 596, 683, 773], [183, 359, 543, 665, 982], [72, 608, 746, 853, 884], [134, 320, 418, 861, 955]  …  [50, 104, 136, 332, 461], [349, 367, 591, 759, 945], [218, 370, 510, 894, 977], [281, 379, 434, 487, 721], [15, 172, 533, 717, 804], [80, 330, 528, 549, 898], [178, 198, 341, 366, 811], [67, 123, 191, 588, 730], [58, 337, 634, 773, 983], [1, 187, 226, 862, 962]]))"
      ]
     },
     "execution_count": 18,
     "metadata": {},
     "output_type": "execute_result"
    }
   ],
   "source": [
    "@time DiscreteGraphAlgorithms.iterate(\n",
    "    genetic_iterand,\n",
    "    params_graph_pso;\n",
    "    log_interval = 50,\n",
    ")"
   ]
  },
  {
   "cell_type": "markdown",
   "id": "75ab09a3-f0ed-4224-b76c-015e402cd1c9",
   "metadata": {},
   "source": [
    "# Try the wheel graph\n",
    "- The wheel graph should return 1 in the set of vertices (the central vertex) and any other vertices."
   ]
  },
  {
   "cell_type": "code",
   "execution_count": 39,
   "id": "eb196c9a-9303-43dc-b3d8-6f35ae087de5",
   "metadata": {},
   "outputs": [],
   "source": [
    "n_remove = 3\n",
    "algo = :dijkstra_kary\n",
    "dict_arrays_wheel = spawn_arrays(graph_wheel, algo; )\n",
    "graph_wheel_wrapped = graph_to_graph_wrapper(graph_wheel);\n",
    "S0_wheel = get_default_kpp_nodes(graph_wheel, n_remove); # use centrality (some measure, see ?get_default_kpp_nodes) as default starting point\n",
    "\n",
    "# first, we setup some parameters\n",
    "params_graph_wheel = OptimizationParameters(\n",
    "    n_remove,\n",
    "    graph_wheel_wrapped;\n",
    "    dict_arrays_distance = dict_arrays_wheel,\n",
    "    distance_algorithm = algo,\n",
    "    max_iter = 2000,\n",
    "    max_iter_no_improvement = 100,\n",
    "    opts = Dict{Symbol, Any}(\n",
    "        :aco_population_size => 0.005,\n",
    "        :aco_num_elite => 0.5,\n",
    "    ),\n",
    "    S = S0_wheel,\n",
    ");"
   ]
  },
  {
   "cell_type": "code",
   "execution_count": 41,
   "id": "bb347d90-8dca-46ad-b218-cb5e01aaea1f",
   "metadata": {},
   "outputs": [
    {
     "name": "stdout",
     "output_type": "stream",
     "text": [
      "  0.764846 seconds (767.84 k allocations: 173.053 MiB, 35.86% gc time)\n"
     ]
    },
    {
     "name": "stderr",
     "output_type": "stream",
     "text": [
      "\u001b[36m\u001b[1m[ \u001b[22m\u001b[39m\u001b[36m\u001b[1mInfo: \u001b[22m\u001b[39m1 iterations complete with value 0.9869829962740134\n",
      "\u001b[36m\u001b[1m[ \u001b[22m\u001b[39m\u001b[36m\u001b[1mInfo: \u001b[22m\u001b[39m101 iterations complete with value 0.9883737697337104\n",
      "\u001b[36m\u001b[1m[ \u001b[22m\u001b[39m\u001b[36m\u001b[1mInfo: \u001b[22m\u001b[39mStochastic gradiest descent complete in 105 iterations.\n"
     ]
    },
    {
     "data": {
      "text/plain": [
       "(0.9883737697337104, [1, 42, 546], SimpleGraph{Int64}(995, [[2, 42], [1, 3], [2, 4], [3, 5], [4, 6], [5, 7], [6, 8], [7, 9], [8, 10], [9, 11]  …  [987, 989], [988, 990], [989, 991], [990, 992], [991, 993], [992, 994], [993, 995], [994, 996], [995, 997], [546, 996]]))"
      ]
     },
     "execution_count": 41,
     "metadata": {},
     "output_type": "execute_result"
    }
   ],
   "source": [
    "@time DiscreteGraphAlgorithms.iterate(\n",
    "    gs_iterand,\n",
    "    params_graph_wheel;\n",
    "    log_interval = 100,\n",
    ")"
   ]
  },
  {
   "cell_type": "code",
   "execution_count": 42,
   "id": "dcad7b72-71a9-48e9-8235-b35e932e9bee",
   "metadata": {},
   "outputs": [
    {
     "name": "stdout",
     "output_type": "stream",
     "text": [
      "  1.985087 seconds (4.50 M allocations: 774.549 MiB, 7.42% gc time, 0.31% compilation time)\n"
     ]
    },
    {
     "name": "stderr",
     "output_type": "stream",
     "text": [
      "\u001b[36m\u001b[1m[ \u001b[22m\u001b[39m\u001b[36m\u001b[1mInfo: \u001b[22m\u001b[39m1 iterations complete with value 0.49799700305736483\n",
      "\u001b[36m\u001b[1m[ \u001b[22m\u001b[39m\u001b[36m\u001b[1mInfo: \u001b[22m\u001b[39m101 iterations complete with value 0.9883737293296739\n",
      "\u001b[36m\u001b[1m[ \u001b[22m\u001b[39m\u001b[36m\u001b[1mInfo: \u001b[22m\u001b[39mAnt Colony algorithm complete in 164 iterations.\n"
     ]
    },
    {
     "data": {
      "text/plain": [
       "(0.9883737293296739, [1, 79, 573], SimpleGraph{Int64}(995, [[2, 79], [1, 3], [2, 4], [3, 5], [4, 6], [5, 7], [6, 8], [7, 9], [8, 10], [9, 11]  …  [987, 989], [988, 990], [989, 991], [990, 992], [991, 993], [992, 994], [993, 995], [994, 996], [995, 997], [573, 996]]))"
      ]
     },
     "execution_count": 42,
     "metadata": {},
     "output_type": "execute_result"
    }
   ],
   "source": [
    "@time DiscreteGraphAlgorithms.iterate(\n",
    "    aco_iterand,\n",
    "    params_graph_wheel;\n",
    "    log_interval = 100,\n",
    ")"
   ]
  },
  {
   "cell_type": "markdown",
   "id": "99981a01-ba07-417d-aa1e-8fb8e50f0d6b",
   "metadata": {},
   "source": [
    "# We can verify performance using the Krebs et al. Terrorist Network graph\n",
    "- Use `read_egl` to read the graph\n",
    "    - note: if you have a header, use `skip_rows = 1`\n",
    "    - assumes first column is `i`, second row is `j`, and--if a third row is included--weights\n",
    "    - see `?read_egl` for more"
   ]
  },
  {
   "cell_type": "code",
   "execution_count": 6,
   "id": "f4ac1584-a8d2-4701-8caf-93c09487b443",
   "metadata": {},
   "outputs": [
    {
     "name": "stdout",
     "output_type": "stream",
     "text": [
      "search: \u001b[0m\u001b[1mr\u001b[22m\u001b[0m\u001b[1me\u001b[22m\u001b[0m\u001b[1ma\u001b[22m\u001b[0m\u001b[1md\u001b[22m\u001b[0m\u001b[1m_\u001b[22m\u001b[0m\u001b[1me\u001b[22m\u001b[0m\u001b[1mg\u001b[22m\u001b[0m\u001b[1ml\u001b[22m\n",
      "\n"
     ]
    },
    {
     "data": {
      "text/latex": [
       "Read an edgelist from a .egl file. Returns a GraphWrapper object.\n",
       "\n",
       "\\subsection{Constructs}\n",
       "\\begin{verbatim}\n",
       "read_egl(\n",
       "    fp::String;\n",
       "    delim::String = \" \",\n",
       "    edge_weight_default::Float64 = 1.0,\n",
       "    force_undirected::Bool = false,\n",
       "    infer_weights::Bool = true,\n",
       "    skip_rows::Int64 = 0,\n",
       ")::Union{Nothing, GraphWrapper}\n",
       "\\end{verbatim}\n",
       "\\subsection{Function Arguments}\n",
       "\\begin{itemize}\n",
       "\\item \\texttt{fp}: file path to edgelist file. Can be .egl, .csv, or other.\n",
       "\n",
       "\\end{itemize}\n",
       "\\subsection{Keyword Arguments}\n",
       "\\begin{itemize}\n",
       "\\item \\texttt{delim}: delimiter in edgelist to use to split rows into columns. Infers if   nothing:\n",
       "\n",
       "\\begin{itemize}\n",
       "\\item if the extension in \\texttt{fp} is .csv, infers delim as \",\"\n",
       "\n",
       "\n",
       "\\item if the extension in \\texttt{fp} is .egl, infers delim as \" \"\n",
       "\n",
       "\\end{itemize}\n",
       "\n",
       "\\item \\texttt{edge\\_weight\\_default}: default edge weight value to specify if an   invalid edge weight is found\n",
       "\n",
       "\n",
       "\\item \\texttt{force\\_undirected}: force the graph adjacency to be read in as undirected? If   true, any edge from i -> j will also be included as j -> i.\n",
       "\n",
       "\n",
       "\\item \\texttt{infer\\_weights}: bool denoting whether or not to infer weighting. \n",
       "\n",
       "\\begin{itemize}\n",
       "\\item If \\texttt{true}, looks for inputs with 3 columns, assumed to be \n",
       "\n",
       "i, j, w\n",
       "\n",
       "where \\texttt{i} is the row, \\texttt{j} is the columns, and \\texttt{w} is the    specified weight. If only vectors of length 2 are specified,    assumes the graph is unweighted. \n",
       "\n",
       "\n",
       "\\item If \\texttt{false}, only looks for edges, ignoring potential weight    specification.\n",
       "\n",
       "\\end{itemize}\n",
       "\n",
       "\\item \\texttt{skip\\_rows}: number of lines to skip in input edge weights.    NOTE: use this argument if your file has a header (e.g., skip\\_rows = 1).\n",
       "\n",
       "\\end{itemize}\n"
      ],
      "text/markdown": [
       "Read an edgelist from a .egl file. Returns a GraphWrapper object.\n",
       "\n",
       "## Constructs\n",
       "\n",
       "```\n",
       "read_egl(\n",
       "    fp::String;\n",
       "    delim::String = \" \",\n",
       "    edge_weight_default::Float64 = 1.0,\n",
       "    force_undirected::Bool = false,\n",
       "    infer_weights::Bool = true,\n",
       "    skip_rows::Int64 = 0,\n",
       ")::Union{Nothing, GraphWrapper}\n",
       "```\n",
       "\n",
       "## Function Arguments\n",
       "\n",
       "  * `fp`: file path to edgelist file. Can be .egl, .csv, or other.\n",
       "\n",
       "## Keyword Arguments\n",
       "\n",
       "  * `delim`: delimiter in edgelist to use to split rows into columns. Infers if   nothing:\n",
       "\n",
       "      * if the extension in `fp` is .csv, infers delim as \",\"\n",
       "      * if the extension in `fp` is .egl, infers delim as \" \"\n",
       "  * `edge_weight_default`: default edge weight value to specify if an   invalid edge weight is found\n",
       "  * `force_undirected`: force the graph adjacency to be read in as undirected? If   true, any edge from i -> j will also be included as j -> i.\n",
       "  * `infer_weights`: bool denoting whether or not to infer weighting. \n",
       "\n",
       "      * If `true`, looks for inputs with 3 columns, assumed to be \n",
       "\n",
       "        i, j, w\n",
       "\n",
       "        where `i` is the row, `j` is the columns, and `w` is the    specified weight. If only vectors of length 2 are specified,    assumes the graph is unweighted.\n",
       "      * If `false`, only looks for edges, ignoring potential weight    specification.\n",
       "  * `skip_rows`: number of lines to skip in input edge weights.    NOTE: use this argument if your file has a header (e.g., skip_rows = 1).\n"
      ],
      "text/plain": [
       "  Read an edgelist from a .egl file. Returns a GraphWrapper object.\n",
       "\n",
       "\u001b[1m  Constructs\u001b[22m\n",
       "\u001b[1m  ==========\u001b[22m\n",
       "\n",
       "\u001b[36m  read_egl(\u001b[39m\n",
       "\u001b[36m      fp::String;\u001b[39m\n",
       "\u001b[36m      delim::String = \" \",\u001b[39m\n",
       "\u001b[36m      edge_weight_default::Float64 = 1.0,\u001b[39m\n",
       "\u001b[36m      force_undirected::Bool = false,\u001b[39m\n",
       "\u001b[36m      infer_weights::Bool = true,\u001b[39m\n",
       "\u001b[36m      skip_rows::Int64 = 0,\u001b[39m\n",
       "\u001b[36m  )::Union{Nothing, GraphWrapper}\u001b[39m\n",
       "\n",
       "\u001b[1m  Function Arguments\u001b[22m\n",
       "\u001b[1m  ==================\u001b[22m\n",
       "\n",
       "    •  \u001b[36mfp\u001b[39m: file path to edgelist file. Can be .egl, .csv, or other.\n",
       "\n",
       "\u001b[1m  Keyword Arguments\u001b[22m\n",
       "\u001b[1m  =================\u001b[22m\n",
       "\n",
       "    •  \u001b[36mdelim\u001b[39m: delimiter in edgelist to use to split rows into columns.\n",
       "       Infers if nothing:\n",
       "       • if the extension in \u001b[36mfp\u001b[39m is .csv, infers delim as \",\"\n",
       "       • if the extension in \u001b[36mfp\u001b[39m is .egl, infers delim as \" \"\n",
       "\n",
       "    •  \u001b[36medge_weight_default\u001b[39m: default edge weight value to specify if an\n",
       "       invalid edge weight is found\n",
       "\n",
       "    •  \u001b[36mforce_undirected\u001b[39m: force the graph adjacency to be read in as\n",
       "       undirected? If true, any edge from i -> j will also be included as\n",
       "       j -> i.\n",
       "\n",
       "    •  \u001b[36minfer_weights\u001b[39m: bool denoting whether or not to infer weighting.\n",
       "       • If \u001b[36mtrue\u001b[39m, looks for inputs with 3 columns, assumed to be\n",
       "       i, j, w\n",
       "       where \u001b[36mi\u001b[39m is the row, \u001b[36mj\u001b[39m is the columns, and \u001b[36mw\u001b[39m is the\n",
       "       specified weight. If only vectors of length 2 are\n",
       "       specified, assumes the graph is unweighted.\n",
       "       • If \u001b[36mfalse\u001b[39m, only looks for edges, ignoring potential\n",
       "       weight specification.\n",
       "\n",
       "    •  \u001b[36mskip_rows\u001b[39m: number of lines to skip in input edge weights. NOTE:\n",
       "       use this argument if your file has a header (e.g., skip_rows = 1)."
      ]
     },
     "execution_count": 6,
     "metadata": {},
     "output_type": "execute_result"
    }
   ],
   "source": [
    "?read_egl"
   ]
  },
  {
   "cell_type": "code",
   "execution_count": 7,
   "id": "572afded-fdbb-465d-a1d1-b1f44ad057f0",
   "metadata": {},
   "outputs": [],
   "source": [
    "# fine the krebs example graph \n",
    "path = get_ref_path(\"krebs.egl\"; check_exist = true)\n",
    "graph_wrapper_krebs = read_egl(path);"
   ]
  },
  {
   "cell_type": "code",
   "execution_count": 18,
   "id": "cb9830b1-5f2e-4186-a0c7-075cc0d7c9ef",
   "metadata": {},
   "outputs": [],
   "source": [
    "n_remove = 2\n",
    "algo = :dijkstra_kary\n",
    "\n",
    "# note: \n",
    "dict_arrays_krebs = spawn_arrays(graph_wrapper_krebs.graph, algo; ) \n",
    "\n",
    "# first, we setup some parameters\n",
    "params_graph_krebs = OptimizationParameters(\n",
    "    n_remove,\n",
    "    graph_wrapper_krebs;\n",
    "    dict_arrays_distance = dict_arrays_krebs,\n",
    "    distance_algorithm = algo,\n",
    "    max_iter = 1000,\n",
    "    max_iter_no_improvement = 25,\n",
    "    opts = Dict{Symbol, Any}(\n",
    "        :aco_population_size => 5,\n",
    "        :aco_num_elite => 0.5,\n",
    "        :genetic_population_size => 5,\n",
    "        :genetic_num_elite => 0.5,\n",
    "    ),\n",
    "    parallel_approach = :serial,\n",
    ");"
   ]
  },
  {
   "cell_type": "code",
   "execution_count": 20,
   "id": "52aa240a-0516-4295-ac2a-e87915776c58",
   "metadata": {},
   "outputs": [
    {
     "name": "stderr",
     "output_type": "stream",
     "text": [
      "\u001b[36m\u001b[1m[ \u001b[22m\u001b[39m\u001b[36m\u001b[1mInfo: \u001b[22m\u001b[39m1 iterations complete with value 0.6656268496099005\n",
      "\u001b[36m\u001b[1m[ \u001b[22m\u001b[39m\u001b[36m\u001b[1mInfo: \u001b[22m\u001b[39m21 iterations complete with value 0.6971031746031745\n",
      "\u001b[36m\u001b[1m[ \u001b[22m\u001b[39m\u001b[36m\u001b[1mInfo: \u001b[22m\u001b[39m41 iterations complete with value 0.7729943502824859\n",
      "\u001b[36m\u001b[1m[ \u001b[22m\u001b[39m\u001b[36m\u001b[1mInfo: \u001b[22m\u001b[39mAnt Colony algorithm complete in 58 iterations.\n"
     ]
    },
    {
     "name": "stdout",
     "output_type": "stream",
     "text": [
      "  0.236151 seconds (341.72 k allocations: 32.891 MiB, 74.76% gc time)\n"
     ]
    },
    {
     "data": {
      "text/plain": [
       "(0.7729943502824859, [4, 18], SimpleGraph{Int64}(121, [[2], [1, 3, 4, 13, 18, 24, 35, 46, 57, 60], [2, 7, 60], [2, 5, 6, 18, 46, 57], [4, 6, 8, 9, 10], [4, 5], [3, 8], [5, 7, 10, 16, 17], [5, 10, 11], [5, 8, 9, 11, 12, 14, 15, 16]  …  [40, 44, 50], [39, 40, 43, 53], [39, 40, 43, 52, 56, 58], [39, 49], [39, 49], [40, 53, 58], [2, 4], [40, 53, 56], [40], [2, 3, 46]]))"
      ]
     },
     "execution_count": 20,
     "metadata": {},
     "output_type": "execute_result"
    }
   ],
   "source": [
    "@time DiscreteGraphAlgorithms.iterate(\n",
    "    aco_iterand,\n",
    "    params_graph_krebs;\n",
    "    log_interval = 20,\n",
    ")"
   ]
  },
  {
   "cell_type": "code",
   "execution_count": 21,
   "id": "4a8f2489-d14a-4fbf-b668-444f5a2c997b",
   "metadata": {},
   "outputs": [
    {
     "name": "stderr",
     "output_type": "stream",
     "text": [
      "\u001b[36m\u001b[1m[ \u001b[22m\u001b[39m\u001b[36m\u001b[1mInfo: \u001b[22m\u001b[39m1 iterations complete with value 0.7729943502824859\n",
      "\u001b[36m\u001b[1m[ \u001b[22m\u001b[39m\u001b[36m\u001b[1mInfo: \u001b[22m\u001b[39m21 iterations complete with value 0.7729943502824859\n",
      "\u001b[36m\u001b[1m[ \u001b[22m\u001b[39m\u001b[36m\u001b[1mInfo: \u001b[22m\u001b[39mStochastic gradiest descent complete in 26 iterations.\n"
     ]
    },
    {
     "name": "stdout",
     "output_type": "stream",
     "text": [
      "  0.161333 seconds (29.95 k allocations: 3.081 MiB, 95.61% gc time)\n"
     ]
    },
    {
     "data": {
      "text/plain": [
       "(0.7729943502824859, [4, 18], SimpleGraph{Int64}(121, [[2], [1, 3, 4, 13, 18, 24, 35, 46, 57, 60], [2, 7, 60], [2, 5, 6, 18, 46, 57], [4, 6, 8, 9, 10], [4, 5], [3, 8], [5, 7, 10, 16, 17], [5, 10, 11], [5, 8, 9, 11, 12, 14, 15, 16]  …  [40, 44, 50], [39, 40, 43, 53], [39, 40, 43, 52, 56, 58], [39, 49], [39, 49], [40, 53, 58], [2, 4], [40, 53, 56], [40], [2, 3, 46]]))"
      ]
     },
     "execution_count": 21,
     "metadata": {},
     "output_type": "execute_result"
    }
   ],
   "source": [
    "@time DiscreteGraphAlgorithms.iterate(\n",
    "    gs_iterand,\n",
    "    params_graph_krebs;\n",
    "    log_interval = 20,\n",
    ")"
   ]
  },
  {
   "cell_type": "code",
   "execution_count": 22,
   "id": "fbb977a6-d182-4c39-b6da-69c5792af056",
   "metadata": {},
   "outputs": [
    {
     "name": "stderr",
     "output_type": "stream",
     "text": [
      "\u001b[36m\u001b[1m[ \u001b[22m\u001b[39m\u001b[36m\u001b[1mInfo: \u001b[22m\u001b[39m1 iterations complete with value 0.6070150659133711\n",
      "\u001b[36m\u001b[1m[ \u001b[22m\u001b[39m\u001b[36m\u001b[1mInfo: \u001b[22m\u001b[39m21 iterations complete with value 0.5998116760828625\n",
      "\u001b[36m\u001b[1m[ \u001b[22m\u001b[39m\u001b[36m\u001b[1mInfo: \u001b[22m\u001b[39m41 iterations complete with value 0.5941996233521658\n",
      "\u001b[36m\u001b[1m[ \u001b[22m\u001b[39m\u001b[36m\u001b[1mInfo: \u001b[22m\u001b[39m61 iterations complete with value 0.5999529190207158\n",
      "\u001b[36m\u001b[1m[ \u001b[22m\u001b[39m\u001b[36m\u001b[1mInfo: \u001b[22m\u001b[39m81 iterations complete with value 0.6286064030131826\n",
      "\u001b[36m\u001b[1m[ \u001b[22m\u001b[39m\u001b[36m\u001b[1mInfo: \u001b[22m\u001b[39m101 iterations complete with value 0.6570123755716977\n",
      "\u001b[36m\u001b[1m[ \u001b[22m\u001b[39m\u001b[36m\u001b[1mInfo: \u001b[22m\u001b[39m121 iterations complete with value 0.5954331450094162\n",
      "\u001b[36m\u001b[1m[ \u001b[22m\u001b[39m\u001b[36m\u001b[1mInfo: \u001b[22m\u001b[39m141 iterations complete with value 0.5985875706214692\n",
      "\u001b[36m\u001b[1m[ \u001b[22m\u001b[39m\u001b[36m\u001b[1mInfo: \u001b[22m\u001b[39m161 iterations complete with value 0.6021657250470809\n",
      "\u001b[36m\u001b[1m[ \u001b[22m\u001b[39m\u001b[36m\u001b[1mInfo: \u001b[22m\u001b[39m181 iterations complete with value 0.5958757062146893\n",
      "\u001b[36m\u001b[1m[ \u001b[22m\u001b[39m\u001b[36m\u001b[1mInfo: \u001b[22m\u001b[39m201 iterations complete with value 0.5983992467043314\n",
      "\u001b[36m\u001b[1m[ \u001b[22m\u001b[39m\u001b[36m\u001b[1mInfo: \u001b[22m\u001b[39m221 iterations complete with value 0.611939736346516\n",
      "\u001b[36m\u001b[1m[ \u001b[22m\u001b[39m\u001b[36m\u001b[1mInfo: \u001b[22m\u001b[39m241 iterations complete with value 0.6264406779661018\n",
      "\u001b[36m\u001b[1m[ \u001b[22m\u001b[39m\u001b[36m\u001b[1mInfo: \u001b[22m\u001b[39m261 iterations complete with value 0.5970809792843692\n",
      "\u001b[36m\u001b[1m[ \u001b[22m\u001b[39m\u001b[36m\u001b[1mInfo: \u001b[22m\u001b[39m281 iterations complete with value 0.5978625235404897\n",
      "\u001b[36m\u001b[1m[ \u001b[22m\u001b[39m\u001b[36m\u001b[1mInfo: \u001b[22m\u001b[39m301 iterations complete with value 0.5955273069679848\n",
      "\u001b[36m\u001b[1m[ \u001b[22m\u001b[39m\u001b[36m\u001b[1mInfo: \u001b[22m\u001b[39m321 iterations complete with value 0.5992467043314502\n",
      "\u001b[36m\u001b[1m[ \u001b[22m\u001b[39m\u001b[36m\u001b[1mInfo: \u001b[22m\u001b[39m341 iterations complete with value 0.6005178907721279\n",
      "\u001b[36m\u001b[1m[ \u001b[22m\u001b[39m\u001b[36m\u001b[1mInfo: \u001b[22m\u001b[39m361 iterations complete with value 0.6018361581920906\n",
      "\u001b[36m\u001b[1m[ \u001b[22m\u001b[39m\u001b[36m\u001b[1mInfo: \u001b[22m\u001b[39m381 iterations complete with value 0.5958662900188323\n",
      "\u001b[36m\u001b[1m[ \u001b[22m\u001b[39m\u001b[36m\u001b[1mInfo: \u001b[22m\u001b[39m401 iterations complete with value 0.6138808178638687\n",
      "\u001b[36m\u001b[1m[ \u001b[22m\u001b[39m\u001b[36m\u001b[1mInfo: \u001b[22m\u001b[39m421 iterations complete with value 0.60484934086629\n",
      "\u001b[36m\u001b[1m[ \u001b[22m\u001b[39m\u001b[36m\u001b[1mInfo: \u001b[22m\u001b[39m441 iterations complete with value 0.5983050847457629\n",
      "\u001b[36m\u001b[1m[ \u001b[22m\u001b[39m\u001b[36m\u001b[1mInfo: \u001b[22m\u001b[39m461 iterations complete with value 0.611939736346516\n",
      "\u001b[36m\u001b[1m[ \u001b[22m\u001b[39m\u001b[36m\u001b[1mInfo: \u001b[22m\u001b[39m481 iterations complete with value 0.5991525423728812\n",
      "\u001b[36m\u001b[1m[ \u001b[22m\u001b[39m\u001b[36m\u001b[1mInfo: \u001b[22m\u001b[39m501 iterations complete with value 0.5995291902071562\n",
      "\u001b[36m\u001b[1m[ \u001b[22m\u001b[39m\u001b[36m\u001b[1mInfo: \u001b[22m\u001b[39m521 iterations complete with value 0.6091996233521658\n",
      "\u001b[36m\u001b[1m[ \u001b[22m\u001b[39m\u001b[36m\u001b[1mInfo: \u001b[22m\u001b[39m541 iterations complete with value 0.5971751412429378\n",
      "\u001b[36m\u001b[1m[ \u001b[22m\u001b[39m\u001b[36m\u001b[1mInfo: \u001b[22m\u001b[39m561 iterations complete with value 0.5983521657250469\n",
      "\u001b[36m\u001b[1m[ \u001b[22m\u001b[39m\u001b[36m\u001b[1mInfo: \u001b[22m\u001b[39m581 iterations complete with value 0.6069679849340865\n",
      "\u001b[36m\u001b[1m[ \u001b[22m\u001b[39m\u001b[36m\u001b[1mInfo: \u001b[22m\u001b[39m601 iterations complete with value 0.6025894538606404\n",
      "\u001b[36m\u001b[1m[ \u001b[22m\u001b[39m\u001b[36m\u001b[1mInfo: \u001b[22m\u001b[39m621 iterations complete with value 0.6217608286252354\n",
      "\u001b[36m\u001b[1m[ \u001b[22m\u001b[39m\u001b[36m\u001b[1mInfo: \u001b[22m\u001b[39m641 iterations complete with value 0.5971751412429378\n",
      "\u001b[36m\u001b[1m[ \u001b[22m\u001b[39m\u001b[36m\u001b[1mInfo: \u001b[22m\u001b[39m661 iterations complete with value 0.599322033898305\n",
      "\u001b[36m\u001b[1m[ \u001b[22m\u001b[39m\u001b[36m\u001b[1mInfo: \u001b[22m\u001b[39m681 iterations complete with value 0.6263444982512778\n",
      "\u001b[36m\u001b[1m[ \u001b[22m\u001b[39m\u001b[36m\u001b[1mInfo: \u001b[22m\u001b[39m701 iterations complete with value 0.6779412160344365\n",
      "\u001b[36m\u001b[1m[ \u001b[22m\u001b[39m\u001b[36m\u001b[1mInfo: \u001b[22m\u001b[39m721 iterations complete with value 0.7729943502824859\n",
      "\u001b[36m\u001b[1m[ \u001b[22m\u001b[39m\u001b[36m\u001b[1mInfo: \u001b[22m\u001b[39m741 iterations complete with value 0.7729943502824859\n",
      "\u001b[36m\u001b[1m[ \u001b[22m\u001b[39m\u001b[36m\u001b[1mInfo: \u001b[22m\u001b[39m761 iterations complete with value 0.6019303201506593\n",
      "\u001b[36m\u001b[1m[ \u001b[22m\u001b[39m\u001b[36m\u001b[1mInfo: \u001b[22m\u001b[39m781 iterations complete with value 0.5987758945386066\n",
      "\u001b[36m\u001b[1m[ \u001b[22m\u001b[39m\u001b[36m\u001b[1mInfo: \u001b[22m\u001b[39m801 iterations complete with value 0.602306967984934\n",
      "\u001b[36m\u001b[1m[ \u001b[22m\u001b[39m\u001b[36m\u001b[1mInfo: \u001b[22m\u001b[39m821 iterations complete with value 0.6008474576271183\n",
      "\u001b[36m\u001b[1m[ \u001b[22m\u001b[39m\u001b[36m\u001b[1mInfo: \u001b[22m\u001b[39m841 iterations complete with value 0.5979755178907724\n",
      "\u001b[36m\u001b[1m[ \u001b[22m\u001b[39m\u001b[36m\u001b[1mInfo: \u001b[22m\u001b[39m861 iterations complete with value 0.601271186440678\n",
      "\u001b[36m\u001b[1m[ \u001b[22m\u001b[39m\u001b[36m\u001b[1mInfo: \u001b[22m\u001b[39m881 iterations complete with value 0.6652259887005649\n",
      "\u001b[36m\u001b[1m[ \u001b[22m\u001b[39m\u001b[36m\u001b[1mInfo: \u001b[22m\u001b[39m901 iterations complete with value 0.673230427764326\n",
      "\u001b[36m\u001b[1m[ \u001b[22m\u001b[39m\u001b[36m\u001b[1mInfo: \u001b[22m\u001b[39m921 iterations complete with value 0.6742675544794189\n",
      "\u001b[36m\u001b[1m[ \u001b[22m\u001b[39m\u001b[36m\u001b[1mInfo: \u001b[22m\u001b[39m941 iterations complete with value 0.6745500403551251\n",
      "\u001b[36m\u001b[1m[ \u001b[22m\u001b[39m\u001b[36m\u001b[1mInfo: \u001b[22m\u001b[39m961 iterations complete with value 0.5987758945386064\n",
      "\u001b[36m\u001b[1m[ \u001b[22m\u001b[39m\u001b[36m\u001b[1mInfo: \u001b[22m\u001b[39m981 iterations complete with value 0.6701688189400052\n",
      "\u001b[36m\u001b[1m[ \u001b[22m\u001b[39m\u001b[36m\u001b[1mInfo: \u001b[22m\u001b[39mSimulated annealing complete in 1000 iterations.\n"
     ]
    },
    {
     "name": "stdout",
     "output_type": "stream",
     "text": [
      "  0.347297 seconds (1.13 M allocations: 117.842 MiB, 46.63% gc time)\n"
     ]
    },
    {
     "data": {
      "text/plain": [
       "(0.7729943502824859, [4, 18], SimpleGraph{Int64}(121, [[2], [1, 3, 4, 13, 18, 24, 35, 46, 57, 60], [2, 7, 60], [2, 5, 6, 18, 46, 57], [4, 6, 8, 9, 10], [4, 5], [3, 8], [5, 7, 10, 16, 17], [5, 10, 11], [5, 8, 9, 11, 12, 14, 15, 16]  …  [40, 44, 50], [39, 40, 43, 53], [39, 40, 43, 52, 56, 58], [39, 49], [39, 49], [40, 53, 58], [2, 4], [40, 53, 56], [40], [2, 3, 46]]))"
      ]
     },
     "execution_count": 22,
     "metadata": {},
     "output_type": "execute_result"
    }
   ],
   "source": [
    "@time DiscreteGraphAlgorithms.iterate(\n",
    "    sann_iterand,\n",
    "    params_graph_krebs;\n",
    "    log_interval = 20,\n",
    ")"
   ]
  },
  {
   "cell_type": "code",
   "execution_count": null,
   "id": "e50833f2-0342-4bae-870e-e3e4425a5482",
   "metadata": {},
   "outputs": [],
   "source": []
  },
  {
   "cell_type": "code",
   "execution_count": null,
   "id": "c51812dd-09f6-48c9-9289-886e52cfa0f2",
   "metadata": {},
   "outputs": [],
   "source": []
  }
 ],
 "metadata": {
  "kernelspec": {
   "display_name": "Julia 1.10.5",
   "language": "julia",
   "name": "julia-1.10"
  },
  "language_info": {
   "file_extension": ".jl",
   "mimetype": "application/julia",
   "name": "julia",
   "version": "1.10.5"
  }
 },
 "nbformat": 4,
 "nbformat_minor": 5
}
